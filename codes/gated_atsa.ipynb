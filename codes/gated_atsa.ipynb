{
 "cells": [
  {
   "cell_type": "code",
   "execution_count": null,
   "metadata": {
    "cell_id": "00000-39064f7d-dd5b-4b64-adef-caa6ee2a236e",
    "deepnote_cell_type": "code",
    "tags": []
   },
   "outputs": [],
   "source": [
    "import torch\n",
    "import torch.nn as nn\n",
    "import torch.nn.functional as F\n",
    "\n",
    "# Convolutional Neural Network\n",
    "class CNN_Gated_ATSA(nn.Module):\n",
    "    def __init__(self, args):\n",
    "        super(CNN_Gated_ATSA, self).__init__()\n",
    "        self.args = args\n",
    "        \n",
    "        # Number of words in vocabulary\n",
    "        Vocab = args.embed_num\n",
    "        # Dimension\n",
    "        Dim = args.embed_dim\n",
    "        \n",
    "        # Number of features\n",
    "        C = args.class_num\n",
    "        # Number of aspects\n",
    "        A = args.aspect_num\n",
    "\n",
    "        # Number of kernels\n",
    "        K_num = args.kernel_num\n",
    "        # Size of kernel\n",
    "        Ks = args.kernel_sizes\n",
    "\n",
    "        # Creating a Vocab X Dim matrix containing the semantical relations\n",
    "        self.embed = nn.Embedding(Vocab, Dim)\n",
    "        # assigning weights to embedding layer using GloVe or Word2Vec\n",
    "        self.embed.weight = nn.Parameter(args.embedding, requires_grad=True)\n",
    "\n",
    "        # Creating the embedding matrix for aspects\n",
    "        self.aspect_embed = nn.Embedding(A, args.aspect_embed_dim)\n",
    "        # assigning weights to embedding layer using GloVe or Word2Vec\n",
    "        self.aspect_embed.weight = nn.Parameter(args.aspect_embedding, requires_grad=True)\n",
    "\n",
    "        # Creating a module list of 1d convolutions applied on kernels\n",
    "        self.convs1 = nn.ModuleList([nn.Conv1d(D, K_num, K) for K in Ks])\n",
    "        self.convs2 = nn.ModuleList([nn.Conv1d(D, K_num, K) for K in Ks])\n",
    "        # A convolutional layer is added to the design for ACSA\n",
    "        self.convs3 = nn.ModuleList([nn.Conv1d(D, K_num, K, padding=K-2) for K in [3]])\n",
    "\n",
    "        # makes some of the elements in input tensor zero with 0.2 probability\n",
    "        self.dropout = nn.Dropout(0.2)\n",
    "\n",
    "        # y = Wx + b operation\n",
    "        self.fc1 = nn.Linear(len(Ks)*K_num, C)\n",
    "        self.fc_aspect = nn.Linear(100, K_num)\n",
    "\n",
    "    def forward(self, feature, aspect):\n",
    "        feature = self.embed(feature)  \n",
    "        aspect_v = self.aspect_embed(aspect)  \n",
    "        asp1 = [F.relu(conv(aspect_v.transpose(1, 2))) for conv in self.convs3]  \n",
    "        asp2 = [F.max_pool1d(a, a.size(2)).squeeze(2) for a in asp1]\n",
    "        aspect_v = torch.cat(asp2, 1)\n",
    "\n",
    "        x = [F.tanh(conv(feature.transpose(1, 2))) for conv in self.convs1]  \n",
    "        y = [F.relu(conv(feature.transpose(1, 2)) + self.fc_aspect(aspect_v).unsqueeze(2)) for conv in self.convs2]\n",
    "        x = [i*j for i, j in zip(x, y)]\n",
    "\n",
    "        # pooling method\n",
    "        x = [F.max_pool1d(i, i.size(2)).squeeze(2) for i in x]  # [(N,K_num), ...]*len(Ks)\n",
    "\n",
    "        # concatenating tensors of given dimension (dim=1 in this case)\n",
    "        x = torch.cat(x, 1)\n",
    "        x = self.dropout(x)  # (N,len(Ks)*K_num)\n",
    "        logit = self.fc1(x)  # (N,C)\n",
    "        return logit, x, y"
   ]
  },
  {
   "cell_type": "code",
   "execution_count": null,
   "metadata": {
    "cell_id": "00001-aea13184-7d4f-4c03-b267-4492f5a5a6d3",
    "deepnote_cell_type": "code",
    "tags": []
   },
   "outputs": [],
   "source": []
  },
  {
   "cell_type": "markdown",
   "metadata": {
    "created_in_deepnote_cell": true,
    "deepnote_cell_type": "markdown",
    "tags": []
   },
   "source": [
    "<a style='text-decoration:none;line-height:16px;display:flex;color:#5B5B62;padding:10px;justify-content:end;' href='https://deepnote.com?utm_source=created-in-deepnote-cell&projectId=630b80f3-0461-4931-b02f-4187ab638fd0' target=\"_blank\">\n",
    "<img alt='Created in deepnote.com' style='display:inline;max-height:16px;margin:0px;margin-right:7.5px;' src='data:image/svg+xml;base64,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' > </img>\n",
    "Created in <span style='font-weight:600;margin-left:4px;'>Deepnote</span></a>"
   ]
  }
 ],
 "metadata": {
  "deepnote": {
   "is_reactive": false
  },
  "deepnote_execution_queue": [],
  "deepnote_notebook_id": "736a7627-34b2-40f1-b0a3-b1b9a308c8b7",
  "language_info": {
   "name": "plaintext"
  },
  "orig_nbformat": 2
 },
 "nbformat": 4,
 "nbformat_minor": 2
}
