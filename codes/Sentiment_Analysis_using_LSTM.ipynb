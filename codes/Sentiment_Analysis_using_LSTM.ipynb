{
  "nbformat": 4,
  "nbformat_minor": 5,
  "metadata": {
    "kernelspec": {
      "display_name": "Python 3",
      "language": "python",
      "name": "python3"
    },
    "language_info": {
      "codemirror_mode": {
        "name": "ipython",
        "version": 3
      },
      "file_extension": ".py",
      "mimetype": "text/x-python",
      "name": "python",
      "nbconvert_exporter": "python",
      "pygments_lexer": "ipython3",
      "version": "3.8.0"
    },
    "colab": {
      "name": "Sentiment Analysis using LSTM.ipynb",
      "provenance": [],
      "collapsed_sections": []
    }
  },
  "cells": [
    {
      "cell_type": "markdown",
      "metadata": {
        "id": "d42af45e"
      },
      "source": [
        "## Sentiment Analysis using LSTM"
      ],
      "id": "d42af45e"
    },
    {
      "cell_type": "code",
      "metadata": {
        "id": "b8691038"
      },
      "source": [
        "#Function to classify the statement as positive or negative\n",
        "def predict_sentiment(text):\n",
        "    tw = tokenizer.texts_to_sequences([text])\n",
        "    tw = pad_sequences(tw,maxlen=200)\n",
        "    prediction = int(model.predict(tw).round().item())\n",
        "    print(sentiment_label[1][prediction], \"statement\")"
      ],
      "id": "b8691038",
      "execution_count": 54,
      "outputs": []
    },
    {
      "cell_type": "code",
      "metadata": {
        "id": "e7500ab9"
      },
      "source": [
        "import pandas as pd\n",
        "import matplotlib.pyplot as plt\n",
        "\n",
        "from tensorflow.keras.preprocessing.text import Tokenizer\n",
        "from tensorflow.keras.preprocessing.sequence import pad_sequences\n",
        "from tensorflow.keras.models import Sequential\n",
        "from tensorflow.keras.layers import LSTM,Dense, Dropout, SpatialDropout1D\n",
        "from tensorflow.keras.layers import Embedding\n",
        "\n",
        "#Read Data from csv file\n",
        "df = pd.read_csv(\"./Data.csv\")"
      ],
      "id": "e7500ab9",
      "execution_count": 48,
      "outputs": []
    },
    {
      "cell_type": "code",
      "metadata": {
        "id": "92a7ed66"
      },
      "source": [
        "#Process data for training\n",
        "data_df = df[['text','sentiment']] #Extracting only text and sentiment from data\n",
        "data_df = data_df[data_df['sentiment'] != 'neutral'] #Removing Neutral Sentiment\n",
        "sentiment_label = data_df.sentiment.factorize() #Finding unique sentiment values\n",
        "data = data_df.text.values\n",
        "l = len(data)\n",
        "data = data[0:l-1] #Removing NaN values in the data\n",
        "\n",
        "#Tokenizing data into separate words\n",
        "tokenizer = Tokenizer(num_words=5000)\n",
        "tokenizer.fit_on_texts(data)\n",
        "vocab_size = len(tokenizer.word_index) + 1\n",
        "encoded_docs = tokenizer.texts_to_sequences(data)\n",
        "padded_sequence = pad_sequences(encoded_docs, maxlen=200)"
      ],
      "id": "92a7ed66",
      "execution_count": 49,
      "outputs": []
    },
    {
      "cell_type": "code",
      "metadata": {
        "id": "938a50d1"
      },
      "source": [
        "#Describing model specifications for training\n",
        "embedding_vector_length = 32\n",
        "model = Sequential() \n",
        "model.add(Embedding(vocab_size, embedding_vector_length, input_length=200) )\n",
        "model.add(SpatialDropout1D(0.25))\n",
        "model.add(LSTM(50, dropout=0.5, recurrent_dropout=0.5))\n",
        "model.add(Dropout(0.2))\n",
        "model.add(Dense(1, activation='sigmoid')) \n",
        "model.compile(loss='binary_crossentropy',optimizer='adam', metrics=['accuracy'])  "
      ],
      "id": "938a50d1",
      "execution_count": 50,
      "outputs": []
    },
    {
      "cell_type": "code",
      "metadata": {
        "colab": {
          "base_uri": "https://localhost:8080/"
        },
        "id": "ab82873c",
        "outputId": "b6838d39-8793-4203-a546-73af2dfe8b2b"
      },
      "source": [
        "#Training the model\n",
        "history = model.fit(padded_sequence,sentiment_label[0],validation_split=0.2, epochs=5, batch_size=32)"
      ],
      "id": "ab82873c",
      "execution_count": 51,
      "outputs": [
        {
          "output_type": "stream",
          "name": "stdout",
          "text": [
            "Epoch 1/5\n",
            "289/289 [==============================] - 78s 259ms/step - loss: 0.3978 - accuracy: 0.8351 - val_loss: 0.2086 - val_accuracy: 0.9185\n",
            "Epoch 2/5\n",
            "289/289 [==============================] - 75s 258ms/step - loss: 0.2158 - accuracy: 0.9179 - val_loss: 0.1661 - val_accuracy: 0.9376\n",
            "Epoch 3/5\n",
            "289/289 [==============================] - 75s 261ms/step - loss: 0.1606 - accuracy: 0.9393 - val_loss: 0.1715 - val_accuracy: 0.9441\n",
            "Epoch 4/5\n",
            "289/289 [==============================] - 75s 260ms/step - loss: 0.1313 - accuracy: 0.9517 - val_loss: 0.1645 - val_accuracy: 0.9480\n",
            "Epoch 5/5\n",
            "289/289 [==============================] - 75s 259ms/step - loss: 0.1145 - accuracy: 0.9592 - val_loss: 0.1840 - val_accuracy: 0.9419\n"
          ]
        }
      ]
    },
    {
      "cell_type": "code",
      "metadata": {
        "colab": {
          "base_uri": "https://localhost:8080/"
        },
        "id": "a8318f8a",
        "outputId": "b24a3e62-5e73-475c-f325-b37fe4bccff6"
      },
      "source": [
        "#Testing different cases\n",
        "sentence1 = \"It was fun\"\n",
        "predict_sentiment(sentence1)\n",
        "\n",
        "sentence2 = \"It was bad\"\n",
        "predict_sentiment(sentence2)"
      ],
      "id": "a8318f8a",
      "execution_count": 55,
      "outputs": [
        {
          "output_type": "stream",
          "name": "stdout",
          "text": [
            "positive statement\n",
            "negative statement\n"
          ]
        }
      ]
    }
  ]
}